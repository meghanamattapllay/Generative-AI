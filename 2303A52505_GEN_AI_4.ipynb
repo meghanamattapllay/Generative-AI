{
  "nbformat": 4,
  "nbformat_minor": 0,
  "metadata": {
    "colab": {
      "provenance": [],
      "authorship_tag": "ABX9TyPCEwylyuOciVxSTCDP+gTb",
      "include_colab_link": true
    },
    "kernelspec": {
      "name": "python3",
      "display_name": "Python 3"
    },
    "language_info": {
      "name": "python"
    }
  },
  "cells": [
    {
      "cell_type": "markdown",
      "metadata": {
        "id": "view-in-github",
        "colab_type": "text"
      },
      "source": [
        "<a href=\"https://colab.research.google.com/github/meghanamattapllay/Generative-AI/blob/main/2303A52505_GEN_AI_4.ipynb\" target=\"_parent\"><img src=\"https://colab.research.google.com/assets/colab-badge.svg\" alt=\"Open In Colab\"/></a>"
      ]
    },
    {
      "cell_type": "code",
      "execution_count": null,
      "metadata": {
        "colab": {
          "base_uri": "https://localhost:8080/"
        },
        "id": "rQlrGYtY1RlR",
        "outputId": "608b7987-1426-43d7-f13b-f6e39c248089"
      },
      "outputs": [
        {
          "output_type": "stream",
          "name": "stdout",
          "text": [
            "Training MSE: 0.00225\n",
            "Testing MSE: 0.00815\n",
            "Enter x1: 1\n",
            "Enter x2: 2\n",
            "Enter x3: 3\n",
            "Predicted Output: 1.91103\n"
          ]
        }
      ],
      "source": [
        "import numpy as np\n",
        "X_train = np.array([\n",
        "    [0.1, 0.2, 0.3],\n",
        "    [0.2, 0.3, 0.4],\n",
        "    [0.3, 0.4, 0.5],\n",
        "    [0.5, 0.6, 0.7],\n",
        "    [0.1, 0.3, 0.5],\n",
        "    [0.2, 0.4, 0.6],\n",
        "    [0.3, 0.5, 0.7],\n",
        "    [0.4, 0.6, 0.8],\n",
        "    [0.5, 0.7, 0.1]\n",
        "])\n",
        "y_train = np.array([0.14, 0.20, 0.26, 0.38, 0.22, 0.28, 0.34, 0.40, 0.22])\n",
        "np.random.seed(42)\n",
        "weights = np.random.rand(3)\n",
        "bias = np.random.rand()\n",
        "epochs = 1000\n",
        "for _ in range(epochs):\n",
        "    y_pred = np.dot(X_train, weights) + bias\n",
        "    error = y_pred - y_train\n",
        "    weights -= lr * np.dot(X_train.T, error) / len(y_train)\n",
        "    bias -= lr * np.mean(error)\n",
        "def mse(y_true, y_pred):\n",
        "    return np.mean((y_true - y_pred) ** 2)\n",
        "y_train_pred = np.dot(X_train, weights) + bias\n",
        "train_mse = mse(y_train, y_train_pred)\n",
        "print(f\"Training MSE: {train_mse:.5f}\")\n",
        "X_test = np.array([\n",
        "    [0.6, 0.7, 0.8],\n",
        "    [0.7, 0.8, 0.9]\n",
        "])\n",
        "y_test = np.array([0.44, 0.50])\n",
        "y_test_pred = np.dot(X_test, weights) + bias\n",
        "test_mse = mse(y_test, y_test_pred)\n",
        "print(f\"Testing MSE: {test_mse:.5f}\")\n",
        "user_input = np.array([float(input(f\"Enter x{i+1}: \")) for i in range(3)])\n",
        "predicted_output = np.dot(user_input, weights) + bias\n",
        "print(f\"Predicted Output: {predicted_output:.5f}\")\n"
      ]
    },
    {
      "cell_type": "code",
      "source": [
        "def sigmoid(x):\n",
        "    return 1 / (1 + np.exp(-x))\n",
        "X_train = np.array([\n",
        "    [0.1, 0.2, 0.3],\n",
        "    [0.2, 0.3, 0.4],\n",
        "    [0.3, 0.4, 0.5],\n",
        "    [0.5, 0.6, 0.7],\n",
        "    [0.1, 0.3, 0.5],\n",
        "    [0.2, 0.4, 0.6],\n",
        "    [0.3, 0.5, 0.7],\n",
        "    [0.4, 0.6, 0.8],\n",
        "    [0.5, 0.7, 0.1]\n",
        "])\n",
        "y_train = np.array([0.5349, 0.5498, 0.5646, 0.5939, 0.5548, 0.5695, 0.5842, 0.5987, 0.5548])\n",
        "weights = np.random.rand(3)\n",
        "bias = np.random.rand()\n",
        "lr = 0.01\n",
        "epochs = 1000\n",
        "for _ in range(epochs):\n",
        "    y_pred = sigmoid(np.dot(X_train, weights) + bias)\n",
        "    error = y_pred - y_train\n",
        "    weights -= lr * np.dot(X_train.T, error * y_pred * (1 - y_pred)) / len(y_train)\n",
        "    bias -= lr * np.mean(error * y_pred * (1 - y_pred))\n",
        "y_train_pred = sigmoid(np.dot(X_train, weights) + bias)\n",
        "train_mse = mse(y_train, y_train_pred)\n",
        "print(f\"Training MSE: {train_mse:.5f}\")\n",
        "X_test = np.array([\n",
        "    [0.6, 0.7, 0.8],\n",
        "    [0.7, 0.8, 0.9]\n",
        "])\n",
        "y_test = np.array([0.6083, 0.6225])\n",
        "\n",
        "# Compute MSE for testing data\n",
        "y_test_pred = sigmoid(np.dot(X_test, weights) + bias)\n",
        "test_mse = mse(y_test, y_test_pred)\n",
        "print(f\"Testing MSE: {test_mse:.5f}\")\n",
        "\n",
        "# User input prediction\n",
        "user_input = np.array([float(input(f\"Enter x{i+1}: \")) for i in range(3)])\n",
        "predicted_output = sigmoid(np.dot(user_input, weights) + bias)\n",
        "print(f\"Predicted Output: {predicted_output:.5f}\")\n"
      ],
      "metadata": {
        "colab": {
          "base_uri": "https://localhost:8080/"
        },
        "id": "J_gSq5x4135W",
        "outputId": "ed601a34-fdeb-45c6-db16-dd6316bd10a4"
      },
      "execution_count": null,
      "outputs": [
        {
          "output_type": "stream",
          "name": "stdout",
          "text": [
            "Training MSE: 0.00726\n",
            "Testing MSE: 0.00160\n",
            "Enter x1: 1\n",
            "Enter x2: 2\n",
            "Enter x3: 3\n",
            "Predicted Output: 0.64181\n"
          ]
        }
      ]
    }
  ]
}