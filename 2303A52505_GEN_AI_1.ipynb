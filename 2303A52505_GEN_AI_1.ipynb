{
  "nbformat": 4,
  "nbformat_minor": 0,
  "metadata": {
    "colab": {
      "provenance": [],
      "authorship_tag": "ABX9TyPX10CnzpiIe1dRz6MjiY8l",
      "include_colab_link": true
    },
    "kernelspec": {
      "name": "python3",
      "display_name": "Python 3"
    },
    "language_info": {
      "name": "python"
    }
  },
  "cells": [
    {
      "cell_type": "markdown",
      "metadata": {
        "id": "view-in-github",
        "colab_type": "text"
      },
      "source": [
        "<a href=\"https://colab.research.google.com/github/meghanamattapllay/Generative-AI/blob/main/2303A52505_GEN_AI_1.ipynb\" target=\"_parent\"><img src=\"https://colab.research.google.com/assets/colab-badge.svg\" alt=\"Open In Colab\"/></a>"
      ]
    },
    {
      "cell_type": "markdown",
      "source": [
        "1.(1 ponto) Write Python code from scratch to find error metrics of deep learning model. Actual\n",
        "values and deep learning model predicted values are shown in Table 1. Also compare the results\n",
        "with the outcomes of libraries\n",
        "YActual YP red\n",
        "20 20.5\n",
        "30 30.3\n",
        "40 40.2\n",
        "50 50.6\n",
        "60 60.7\n",
        "Tabela 1: YActual Vs. YP red\n"
      ],
      "metadata": {
        "id": "sB5jmavdoZOi"
      }
    },
    {
      "cell_type": "markdown",
      "source": [
        "# **Without** **libraries**"
      ],
      "metadata": {
        "id": "jYyezL9TuM4w"
      }
    },
    {
      "cell_type": "code",
      "execution_count": null,
      "metadata": {
        "colab": {
          "base_uri": "https://localhost:8080/"
        },
        "id": "hS1_V4fXlMWz",
        "outputId": "188c0759-d3f7-46a8-ae1a-59e0ff444f8c"
      },
      "outputs": [
        {
          "output_type": "stream",
          "name": "stdout",
          "text": [
            "[20 30 40 50 60]\n",
            "[20.5 30.3 40.2 50.6 60.7]\n"
          ]
        }
      ],
      "source": [
        "import numpy as np\n",
        "y_actual=np.array([20,30,40,50,60])\n",
        "y_pred=np.array([20.5,30.3,40.2,50.6,60.7])\n",
        "print(y_actual)\n",
        "print(y_pred)"
      ]
    },
    {
      "cell_type": "code",
      "source": [
        "MAE= np.mean(np.abs(y_actual-y_pred))\n",
        "print(MAE)"
      ],
      "metadata": {
        "colab": {
          "base_uri": "https://localhost:8080/"
        },
        "id": "biTQhGQvmMxv",
        "outputId": "6f410215-516e-453e-8c46-defa0b2c20a4"
      },
      "execution_count": null,
      "outputs": [
        {
          "output_type": "stream",
          "name": "stdout",
          "text": [
            "0.4600000000000016\n"
          ]
        }
      ]
    },
    {
      "cell_type": "code",
      "source": [
        "MSE= np.mean(np.square(y_actual-y_pred))\n",
        "print(MSE)"
      ],
      "metadata": {
        "colab": {
          "base_uri": "https://localhost:8080/"
        },
        "id": "h_TB2HOwmVcZ",
        "outputId": "6adbe4f3-d321-4a82-e511-010eec9f2751"
      },
      "execution_count": null,
      "outputs": [
        {
          "output_type": "stream",
          "name": "stdout",
          "text": [
            "0.24600000000000147\n"
          ]
        }
      ]
    },
    {
      "cell_type": "code",
      "source": [
        "RMSE= np.sqrt(np.mean(np.square(y_actual-y_pred)))\n",
        "print(RMSE)"
      ],
      "metadata": {
        "colab": {
          "base_uri": "https://localhost:8080/"
        },
        "id": "fe-mUJe9mZZk",
        "outputId": "f1901e41-7bf5-4b83-e9a7-67bd2d51ecc7"
      },
      "execution_count": null,
      "outputs": [
        {
          "output_type": "stream",
          "name": "stdout",
          "text": [
            "0.49598387070549127\n"
          ]
        }
      ]
    },
    {
      "cell_type": "code",
      "source": [
        "MAPE= np.mean(np.abs((y_actual-y_pred)/y_actual))*100\n",
        "print(MAPE)"
      ],
      "metadata": {
        "colab": {
          "base_uri": "https://localhost:8080/"
        },
        "id": "w-YNFmgwnRCJ",
        "outputId": "260f7649-c167-4cc1-f97a-ff6e815f36a2"
      },
      "execution_count": null,
      "outputs": [
        {
          "output_type": "stream",
          "name": "stdout",
          "text": [
            "1.273333333333337\n"
          ]
        }
      ]
    },
    {
      "cell_type": "code",
      "source": [
        "R2= 1-(np.sum(np.square(y_actual-y_pred))/np.sum(np.square(y_actual-np.mean(y_actual))))\n",
        "print(R2)"
      ],
      "metadata": {
        "colab": {
          "base_uri": "https://localhost:8080/"
        },
        "id": "eXCI_uzznWnf",
        "outputId": "fc6a8f19-b369-428b-ae9d-e9cafe15aa9d"
      },
      "execution_count": null,
      "outputs": [
        {
          "output_type": "stream",
          "name": "stdout",
          "text": [
            "0.99877\n"
          ]
        }
      ]
    },
    {
      "cell_type": "markdown",
      "source": [
        "# **With libraries**\n",
        "\n"
      ],
      "metadata": {
        "id": "V-PBNFrruZWQ"
      }
    },
    {
      "cell_type": "code",
      "source": [
        "from sklearn.metrics import mean_squared_error, mean_absolute_error, r2_score"
      ],
      "metadata": {
        "id": "k08OQ0PYnnm-"
      },
      "execution_count": null,
      "outputs": []
    },
    {
      "cell_type": "code",
      "source": [
        "mse=mean_squared_error(y_actual,y_pred)\n",
        "print(mse)"
      ],
      "metadata": {
        "colab": {
          "base_uri": "https://localhost:8080/"
        },
        "id": "qz99AMHanta8",
        "outputId": "c373cc39-bd70-4e1b-c667-fe920b927b3e"
      },
      "execution_count": null,
      "outputs": [
        {
          "output_type": "stream",
          "name": "stdout",
          "text": [
            "0.24600000000000147\n"
          ]
        }
      ]
    },
    {
      "cell_type": "code",
      "source": [
        "mae=mean_absolute_error(y_actual,y_pred)\n",
        "print(mae)"
      ],
      "metadata": {
        "colab": {
          "base_uri": "https://localhost:8080/"
        },
        "id": "_e5PDOMunwSr",
        "outputId": "7c29c420-8c26-4b7b-c090-c3de31b11df0"
      },
      "execution_count": null,
      "outputs": [
        {
          "output_type": "stream",
          "name": "stdout",
          "text": [
            "0.4600000000000016\n"
          ]
        }
      ]
    },
    {
      "cell_type": "code",
      "source": [
        "r2=r2_score(y_actual,y_pred)\n",
        "print(r2)"
      ],
      "metadata": {
        "colab": {
          "base_uri": "https://localhost:8080/"
        },
        "id": "TB8OUbINn3ug",
        "outputId": "da9af061-9a77-4d8f-d10c-96ac4db4da8d"
      },
      "execution_count": null,
      "outputs": [
        {
          "output_type": "stream",
          "name": "stdout",
          "text": [
            "0.99877\n"
          ]
        }
      ]
    },
    {
      "cell_type": "code",
      "source": [
        "mape=np.mean(np.abs((y_actual-y_pred)/y_actual))*100\n",
        "print(mape)"
      ],
      "metadata": {
        "colab": {
          "base_uri": "https://localhost:8080/"
        },
        "id": "2Ne6lu5Hn72K",
        "outputId": "8c5d84c3-ba7f-4813-82b7-864089ccb070"
      },
      "execution_count": null,
      "outputs": [
        {
          "output_type": "stream",
          "name": "stdout",
          "text": [
            "1.273333333333337\n"
          ]
        }
      ]
    },
    {
      "cell_type": "markdown",
      "source": [
        "2. (1 ponto) Write python code from scratch to find evaluation metrics of deep learning model.\n",
        "Actual values and deep learning model predicted values are shown in Table 2. Also compare the\n",
        "results with outcome of libraries\n",
        "YActual YP red\n",
        "0 0 1 1 2 0\n",
        "0 0 1 0 2 0\n",
        "0 1 1 2 2 1\n",
        "0 2 1 0 2 2\n",
        "0 2 1 2 2 2\n",
        "Tabela 2: YActual Vs. YP red"
      ],
      "metadata": {
        "id": "aymQvncpo_Ik"
      }
    },
    {
      "cell_type": "markdown",
      "source": [
        "# **Without** **libraries**"
      ],
      "metadata": {
        "id": "JYNR9THGuouz"
      }
    },
    {
      "cell_type": "code",
      "source": [
        "y_actual=np.array([0,0,0,0,0])\n",
        "y_pred=np.array([0,0,1,2,2])\n",
        "print(y_actual)\n",
        "print(y_pred)"
      ],
      "metadata": {
        "colab": {
          "base_uri": "https://localhost:8080/"
        },
        "id": "N9xKe19Wo-gj",
        "outputId": "ee70165d-4479-4d33-d146-0e11c7c0b475"
      },
      "execution_count": null,
      "outputs": [
        {
          "output_type": "stream",
          "name": "stdout",
          "text": [
            "[0 0 0 0 0]\n",
            "[0 0 1 2 2]\n"
          ]
        }
      ]
    },
    {
      "cell_type": "code",
      "source": [
        "accuracy=np.mean(y_actual==y_pred)\n",
        "print(accuracy)"
      ],
      "metadata": {
        "colab": {
          "base_uri": "https://localhost:8080/"
        },
        "id": "VwM9a2E_rxH6",
        "outputId": "1a454b30-fe17-4a3f-a30e-6da8150d0eb7"
      },
      "execution_count": null,
      "outputs": [
        {
          "output_type": "stream",
          "name": "stdout",
          "text": [
            "0.4\n"
          ]
        }
      ]
    },
    {
      "cell_type": "code",
      "source": [
        "precision=np.mean(y_actual==y_pred)\n",
        "print(precision)"
      ],
      "metadata": {
        "colab": {
          "base_uri": "https://localhost:8080/"
        },
        "id": "x3KbMTZssYCP",
        "outputId": "5104acf5-ab7b-4114-8fa1-3388b5fabf52"
      },
      "execution_count": null,
      "outputs": [
        {
          "output_type": "stream",
          "name": "stdout",
          "text": [
            "0.4\n"
          ]
        }
      ]
    },
    {
      "cell_type": "code",
      "source": [
        "f1_score=2*precision*accuracy/(precision+accuracy)\n",
        "print(f1_score)"
      ],
      "metadata": {
        "colab": {
          "base_uri": "https://localhost:8080/"
        },
        "id": "Kf5sYDWmsci1",
        "outputId": "39f80201-c1fc-4e48-f545-5a8881f97e78"
      },
      "execution_count": null,
      "outputs": [
        {
          "output_type": "stream",
          "name": "stdout",
          "text": [
            "0.4000000000000001\n"
          ]
        }
      ]
    },
    {
      "cell_type": "code",
      "source": [
        "recall=np.mean(y_actual==y_pred)\n",
        "print(recall)"
      ],
      "metadata": {
        "colab": {
          "base_uri": "https://localhost:8080/"
        },
        "id": "FHrUOrUtsmY2",
        "outputId": "b479a6f3-0a9a-4340-93d9-179f3c9c79b4"
      },
      "execution_count": null,
      "outputs": [
        {
          "output_type": "stream",
          "name": "stdout",
          "text": [
            "0.4\n"
          ]
        }
      ]
    },
    {
      "cell_type": "code",
      "source": [
        "confusion_matrix=np.zeros((3,3))\n",
        "for i in range(len(y_actual)):\n",
        "    confusion_matrix[y_actual[i],y_pred[i]]+=1\n",
        "print(confusion_matrix)"
      ],
      "metadata": {
        "colab": {
          "base_uri": "https://localhost:8080/"
        },
        "id": "K5fun6cIsojr",
        "outputId": "de91fda6-99c2-4418-feba-50216ac12f56"
      },
      "execution_count": null,
      "outputs": [
        {
          "output_type": "stream",
          "name": "stdout",
          "text": [
            "[[2. 1. 2.]\n",
            " [0. 0. 0.]\n",
            " [0. 0. 0.]]\n"
          ]
        }
      ]
    },
    {
      "cell_type": "code",
      "source": [
        "classification_report=np.zeros((3,3))\n",
        "print(classification_report)"
      ],
      "metadata": {
        "colab": {
          "base_uri": "https://localhost:8080/"
        },
        "id": "UPDUwxCYsvo9",
        "outputId": "80bec289-f4bf-445e-e16c-9862b16d7f46"
      },
      "execution_count": null,
      "outputs": [
        {
          "output_type": "stream",
          "name": "stdout",
          "text": [
            "[[0. 0. 0.]\n",
            " [0. 0. 0.]\n",
            " [0. 0. 0.]]\n"
          ]
        }
      ]
    },
    {
      "cell_type": "markdown",
      "source": [
        "# **With libraries**"
      ],
      "metadata": {
        "id": "qIx2nLBHu8eS"
      }
    },
    {
      "cell_type": "code",
      "source": [
        "from sklearn.metrics import classification_report, confusion_matrix, accuracy_score, precision_score, recall_score, f1_score"
      ],
      "metadata": {
        "id": "5l8rz573s0pk"
      },
      "execution_count": null,
      "outputs": []
    },
    {
      "cell_type": "code",
      "source": [
        "confusion_matrix=confusion_matrix(y_actual,y_pred)\n",
        "print(confusion_matrix)"
      ],
      "metadata": {
        "colab": {
          "base_uri": "https://localhost:8080/"
        },
        "id": "frN349L4tUpZ",
        "outputId": "5c72e1f7-6f85-48f3-af5d-388f08d1af98"
      },
      "execution_count": null,
      "outputs": [
        {
          "output_type": "stream",
          "name": "stdout",
          "text": [
            "[[2 1 2]\n",
            " [0 0 0]\n",
            " [0 0 0]]\n"
          ]
        }
      ]
    },
    {
      "cell_type": "code",
      "source": [
        "classification_report=classification_report(y_actual,y_pred)\n",
        "print(classification_report)"
      ],
      "metadata": {
        "colab": {
          "base_uri": "https://localhost:8080/"
        },
        "id": "Yqxz9znstYfa",
        "outputId": "53de6ec9-5819-496e-d139-1c77f54eeb33"
      },
      "execution_count": null,
      "outputs": [
        {
          "output_type": "stream",
          "name": "stdout",
          "text": [
            "              precision    recall  f1-score   support\n",
            "\n",
            "           0       1.00      0.40      0.57         5\n",
            "           1       0.00      0.00      0.00         0\n",
            "           2       0.00      0.00      0.00         0\n",
            "\n",
            "    accuracy                           0.40         5\n",
            "   macro avg       0.33      0.13      0.19         5\n",
            "weighted avg       1.00      0.40      0.57         5\n",
            "\n"
          ]
        },
        {
          "output_type": "stream",
          "name": "stderr",
          "text": [
            "/usr/local/lib/python3.10/dist-packages/sklearn/metrics/_classification.py:1565: UndefinedMetricWarning: Recall is ill-defined and being set to 0.0 in labels with no true samples. Use `zero_division` parameter to control this behavior.\n",
            "  _warn_prf(average, modifier, f\"{metric.capitalize()} is\", len(result))\n",
            "/usr/local/lib/python3.10/dist-packages/sklearn/metrics/_classification.py:1565: UndefinedMetricWarning: Recall is ill-defined and being set to 0.0 in labels with no true samples. Use `zero_division` parameter to control this behavior.\n",
            "  _warn_prf(average, modifier, f\"{metric.capitalize()} is\", len(result))\n",
            "/usr/local/lib/python3.10/dist-packages/sklearn/metrics/_classification.py:1565: UndefinedMetricWarning: Recall is ill-defined and being set to 0.0 in labels with no true samples. Use `zero_division` parameter to control this behavior.\n",
            "  _warn_prf(average, modifier, f\"{metric.capitalize()} is\", len(result))\n"
          ]
        }
      ]
    },
    {
      "cell_type": "code",
      "source": [
        "precision=precision_score(y_actual,y_pred,average='micro')\n",
        "recall=recall_score(y_actual,y_pred,average='micro')\n",
        "f1=f1_score(y_actual,y_pred,average='micro')\n",
        "accuracy=accuracy_score(y_actual,y_pred)\n",
        "print(accuracy)\n",
        "print(precision)\n",
        "print(recall)\n",
        "print(f1)"
      ],
      "metadata": {
        "colab": {
          "base_uri": "https://localhost:8080/"
        },
        "id": "sKraeg90tBS7",
        "outputId": "2abd858f-c51c-473e-a40e-9f9fb716c590"
      },
      "execution_count": null,
      "outputs": [
        {
          "output_type": "stream",
          "name": "stdout",
          "text": [
            "0.4\n",
            "0.4\n",
            "0.4\n",
            "0.4\n"
          ]
        }
      ]
    }
  ]
}