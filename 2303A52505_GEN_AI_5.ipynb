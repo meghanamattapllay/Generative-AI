{
  "nbformat": 4,
  "nbformat_minor": 0,
  "metadata": {
    "colab": {
      "provenance": [],
      "authorship_tag": "ABX9TyM5SChlALPG5uwjepfl6AMh",
      "include_colab_link": true
    },
    "kernelspec": {
      "name": "python3",
      "display_name": "Python 3"
    },
    "language_info": {
      "name": "python"
    }
  },
  "cells": [
    {
      "cell_type": "markdown",
      "metadata": {
        "id": "view-in-github",
        "colab_type": "text"
      },
      "source": [
        "<a href=\"https://colab.research.google.com/github/meghanamattapllay/Generative-AI/blob/main/2303A52505_GEN_AI_5.ipynb\" target=\"_parent\"><img src=\"https://colab.research.google.com/assets/colab-badge.svg\" alt=\"Open In Colab\"/></a>"
      ]
    },
    {
      "cell_type": "code",
      "execution_count": 13,
      "metadata": {
        "colab": {
          "base_uri": "https://localhost:8080/"
        },
        "id": "cezeV0VN2OhO",
        "outputId": "d7de8bc4-a360-4215-98c2-aca282d61c64"
      },
      "outputs": [
        {
          "output_type": "stream",
          "name": "stdout",
          "text": [
            "Epoch 0: Loss = 2.73054\n",
            "Epoch 1000: Loss = 0.00019\n",
            "Epoch 2000: Loss = 0.00014\n",
            "Epoch 3000: Loss = 0.00012\n",
            "Epoch 4000: Loss = 0.00010\n",
            "Epoch 5000: Loss = 0.00009\n",
            "Epoch 6000: Loss = 0.00009\n",
            "Epoch 7000: Loss = 0.00008\n",
            "Epoch 8000: Loss = 0.00008\n",
            "Epoch 9000: Loss = 0.00007\n",
            "Training MSE: 0.00007\n",
            "Testing MSE: 0.00011\n",
            "Enter x1 and x2: 11 11\n",
            "Predicted output: 0.59390\n"
          ]
        }
      ],
      "source": [
        "import numpy as np\n",
        "\n",
        "def sigmoid(x):\n",
        "    return 1 / (1 + np.exp(-x))\n",
        "\n",
        "def sigmoid_derivative(x):\n",
        "    return x * (1 - x)\n",
        "\n",
        "def train_ann(X, y, epochs=10000, learning_rate=0.01):\n",
        "    np.random.seed(42)\n",
        "    input_size = X.shape[1]\n",
        "    hidden_size = 4\n",
        "    output_size = 1\n",
        "\n",
        "    W1 = np.random.rand(input_size, hidden_size)\n",
        "    b1 = np.zeros((1, hidden_size))\n",
        "    W2 = np.random.rand(hidden_size, output_size)\n",
        "    b2 = np.zeros((1, output_size))\n",
        "\n",
        "    for epoch in range(epochs):\n",
        "        Z1 = np.dot(X, W1) + b1\n",
        "        A1 = sigmoid(Z1)\n",
        "        Z2 = np.dot(A1, W2) + b2\n",
        "        A2 = Z2\n",
        "\n",
        "        loss = np.mean((y - A2) ** 2)\n",
        "\n",
        "\n",
        "        dA2 = 2 * (A2 - y) / y.shape[0]\n",
        "        dZ2 = dA2\n",
        "        dW2 = np.dot(A1.T, dZ2)\n",
        "        db2 = np.sum(dZ2, axis=0, keepdims=True)\n",
        "\n",
        "        dA1 = np.dot(dZ2, W2.T)\n",
        "        dZ1 = dA1 * sigmoid_derivative(A1)\n",
        "        dW1 = np.dot(X.T, dZ1)\n",
        "        db1 = np.sum(dZ1, axis=0, keepdims=True)\n",
        "\n",
        "        W1 -= learning_rate * dW1\n",
        "        b1 -= learning_rate * db1\n",
        "        W2 -= learning_rate * dW2\n",
        "        b2 -= learning_rate * db2\n",
        "\n",
        "        if epoch % 1000 == 0:\n",
        "            print(f\"Epoch {epoch}: Loss = {loss:.5f}\")\n",
        "\n",
        "    return W1, b1, W2, b2\n",
        "\n",
        "def predict(X, W1, b1, W2, b2):\n",
        "    A1 = sigmoid(np.dot(X, W1) + b1)\n",
        "    return np.dot(A1, W2) + b2\n",
        "\n",
        "def mean_squared_error(y_true, y_pred):\n",
        "    return np.mean((y_true - y_pred) ** 2)\n",
        "\n",
        "X_train = np.array([[1, 2], [2, 3], [5, 6], [6, 7], [7, 8], [8, 9]])\n",
        "y_train = np.array([[0.4140], [0.4611], [0.5501], [0.5656], [0.5765], [0.5840]])\n",
        "\n",
        "W1, b1, W2, b2 = train_ann(X_train, y_train)\n",
        "\n",
        "X_test = np.array([[3, 4], [4, 5]])\n",
        "y_test = np.array([[0.4992], [0.5285]])\n",
        "\n",
        "train_predictions = predict(X_train, W1, b1, W2, b2)\n",
        "test_predictions = predict(X_test, W1, b1, W2, b2)\n",
        "\n",
        "train_mse = mean_squared_error(y_train, train_predictions)\n",
        "test_mse = mean_squared_error(y_test, test_predictions)\n",
        "\n",
        "print(f\"Training MSE: {train_mse:.5f}\")\n",
        "print(f\"Testing MSE: {test_mse:.5f}\")\n",
        "\n",
        "x1, x2 = map(float, input(\"Enter x1 and x2: \").split())\n",
        "user_input = np.array([[x1, x2]])\n",
        "output = predict(user_input, W1, b1, W2, b2)\n",
        "print(f\"Predicted output: {output[0][0]:.5f}\")\n"
      ]
    }
  ]
}