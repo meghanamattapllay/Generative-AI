{
  "nbformat": 4,
  "nbformat_minor": 0,
  "metadata": {
    "colab": {
      "provenance": [],
      "authorship_tag": "ABX9TyPEqGEVIITDREvLgW+8DiXV",
      "include_colab_link": true
    },
    "kernelspec": {
      "name": "python3",
      "display_name": "Python 3"
    },
    "language_info": {
      "name": "python"
    }
  },
  "cells": [
    {
      "cell_type": "markdown",
      "metadata": {
        "id": "view-in-github",
        "colab_type": "text"
      },
      "source": [
        "<a href=\"https://colab.research.google.com/github/meghanamattapllay/Generative-AI/blob/main/2303A52505_GEN_AI_3.ipynb\" target=\"_parent\"><img src=\"https://colab.research.google.com/assets/colab-badge.svg\" alt=\"Open In Colab\"/></a>"
      ]
    },
    {
      "cell_type": "code",
      "source": [
        "def gradient_descent_f1(learning_rate=0.01, tolerance=1e-6, max_iterations=1000):\n",
        "    x = 1\n",
        "    for _ in range(max_iterations):\n",
        "        grad = 20 * x**3 + 6 * x\n",
        "        new_x = x - learning_rate * grad\n",
        "        if abs(new_x - x) < tolerance:\n",
        "            break\n",
        "        x = new_x\n",
        "    return x\n",
        "\n",
        "min_x = gradient_descent_f1()\n",
        "print(\"Minimum value of x for f(x):\", min_x)\n"
      ],
      "metadata": {
        "colab": {
          "base_uri": "https://localhost:8080/"
        },
        "id": "__ZeN-Il1Htu",
        "outputId": "e04c2af0-fa54-4a1d-d38a-fa2c29da885c"
      },
      "execution_count": null,
      "outputs": [
        {
          "output_type": "stream",
          "name": "stdout",
          "text": [
            "Minimum value of x for f(x): 1.63586104206045e-05\n"
          ]
        }
      ]
    },
    {
      "cell_type": "code",
      "source": [
        "def exp(x, terms=20):\n",
        "    result = 1.0\n",
        "    numerator = 1.0\n",
        "    denominator = 1.0\n",
        "    for i in range(1, terms):\n",
        "        numerator *= x\n",
        "        denominator *= i\n",
        "        result += numerator / denominator\n",
        "    return result\n",
        "\n",
        "def gradient_descent_f2(learning_rate=0.01, tolerance=1e-6, max_iterations=1000):\n",
        "    x, y = 1.0, 1.0\n",
        "    for _ in range(max_iterations):\n",
        "        grad_x = 6 * x\n",
        "        grad_y = -5 * exp(-y)\n",
        "\n",
        "        new_x = x - learning_rate * grad_x\n",
        "        new_y = y - learning_rate * grad_y\n",
        "\n",
        "        if abs(new_x - x) < tolerance and abs(new_y - y) < tolerance:\n",
        "            break\n",
        "\n",
        "        x, y = new_x, new_y\n",
        "    return x, y\n",
        "\n",
        "min_x, min_y = gradient_descent_f2()\n",
        "print(\"Minimum values of x and y for g(x,y):\", min_x, min_y)\n"
      ],
      "metadata": {
        "colab": {
          "base_uri": "https://localhost:8080/"
        },
        "id": "trg54LTV2JWv",
        "outputId": "a69f2032-ddf5-4282-9982-693ef32cc880"
      },
      "execution_count": null,
      "outputs": [
        {
          "output_type": "stream",
          "name": "stdout",
          "text": [
            "Minimum values of x and y for g(x,y): 1.3423123924933694e-27 3.9663684447749548\n"
          ]
        }
      ]
    },
    {
      "cell_type": "code",
      "source": [
        "def gradient_descent_sigmoid(learning_rate=0.01, tolerance=1e-6, max_iterations=1000):\n",
        "    x = 1.0\n",
        "    for _ in range(max_iterations):\n",
        "        sigmoid_x = 1 / (1 + 2.718**-x)\n",
        "        grad = sigmoid_x * (1 - sigmoid_x)\n",
        "        new_x = x - learning_rate * grad\n",
        "        if abs(new_x - x) < tolerance:\n",
        "            break\n",
        "        x = new_x\n",
        "    return x\n",
        "\n",
        "min_x = gradient_descent_sigmoid()\n",
        "print(\"Minimum value of x for sigmoid function:\", min_x)\n"
      ],
      "metadata": {
        "colab": {
          "base_uri": "https://localhost:8080/"
        },
        "id": "KLMcgmjs2SFQ",
        "outputId": "4fa330e1-c826-4287-ca34-472f54d69167"
      },
      "execution_count": null,
      "outputs": [
        {
          "output_type": "stream",
          "name": "stdout",
          "text": [
            "Minimum value of x for sigmoid function: -1.2407322952422393\n"
          ]
        }
      ]
    },
    {
      "cell_type": "code",
      "source": [
        "def gradient_descent_model(expected_output=0.5, input_value=2, learning_rate=0.01, tolerance=1e-6, max_iterations=1000):\n",
        "    M, C = 1.0, 1.0\n",
        "    for _ in range(max_iterations):\n",
        "        predicted_output = (M * input_value) + C\n",
        "        error = expected_output - predicted_output\n",
        "\n",
        "        grad_M = -2 * error * input_value\n",
        "        grad_C = -2 * error\n",
        "\n",
        "        new_M = M - learning_rate * grad_M\n",
        "        new_C = C - learning_rate * grad_C\n",
        "\n",
        "        if abs(new_M - M) < tolerance and abs(new_C - C) < tolerance:\n",
        "            break\n",
        "\n",
        "        M, C = new_M, new_C\n",
        "    return M, C\n",
        "\n",
        "opt_M, opt_C = gradient_descent_model()\n",
        "print(\"Optimal values of M and C:\", opt_M, opt_C)\n"
      ],
      "metadata": {
        "colab": {
          "base_uri": "https://localhost:8080/"
        },
        "id": "G00LW4lK2XSU",
        "outputId": "ac160135-35ff-4c74-ba05-7b23c470b66a"
      },
      "execution_count": null,
      "outputs": [
        {
          "output_type": "stream",
          "name": "stdout",
          "text": [
            "Optimal values of M and C: 9.261387131014852e-06 0.5000046306935654\n"
          ]
        }
      ]
    }
  ]
}